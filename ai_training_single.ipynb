{
 "cells": [
  {
   "cell_type": "markdown",
   "metadata": {},
   "source": [
    "### Notebook to create a Siamese-network-based position evaluation function for chess."
   ]
  },
  {
   "cell_type": "code",
   "execution_count": 1,
   "metadata": {},
   "outputs": [
    {
     "name": "stdout",
     "output_type": "stream",
     "text": [
      "2.0.0\n"
     ]
    }
   ],
   "source": [
    "import numpy as np\n",
    "import math\n",
    "from loader import *\n",
    "from sklearn.model_selection import train_test_split\n",
    "from matplotlib import pyplot as plt\n",
    "\n",
    "import os\n",
    "import pathlib\n",
    "import shutil\n",
    "import tempfile\n",
    "\n",
    "import tensorflow as tf\n",
    "# import tfdeploy as td\n",
    "from tensorflow.keras import layers\n",
    "from tensorflow.keras import regularizers\n",
    "\n",
    "print(tf.__version__)\n",
    "\n",
    "\n",
    "# !pip install -q git+https://github.com/tensorflow/docs\n",
    "\n",
    "import tensorflow_docs as tfdocs\n",
    "import tensorflow_docs.modeling\n",
    "import tensorflow_docs.plots\n"
   ]
  },
  {
   "cell_type": "code",
   "execution_count": 21,
   "metadata": {},
   "outputs": [
    {
     "name": "stdout",
     "output_type": "stream",
     "text": [
      "40000\n",
      "/tmp/tmphs4q56oa/tensorboard_logs\n"
     ]
    }
   ],
   "source": [
    "# authors use 773 bits; 4 more to indicate castling rights\n",
    "\n",
    "N_INPUT = 769 \n",
    "NUM_DATA = 50000 # 250K\n",
    "N_TRAIN = int(NUM_DATA*.8)\n",
    "print(N_TRAIN)\n",
    "VOLUME_SIZE = 25000\n",
    "\n",
    "BS_AE = 20\n",
    "\n",
    "BATCH_SIZE = 20\n",
    "STEPS_PER_EPOCH = N_TRAIN//BATCH_SIZE\n",
    "\n",
    "\n",
    "# export_path = 'net/exports'\n",
    "# generate temporary directory, delete tree\n",
    "logdir = pathlib.Path(tempfile.mkdtemp())/\"tensorboard_logs\"\n",
    "shutil.rmtree(logdir, ignore_errors=True)\n",
    "print(logdir)\n",
    "\n",
    "# checkpoints\n",
    "base_path = 'training_2'\n",
    "checkpoint_path = base_path + \"/cp.ckpt\"\n",
    "checkpoint_dir = os.path.dirname(checkpoint_path)\n",
    "\n",
    "model_path = base_path"
   ]
  },
  {
   "cell_type": "code",
   "execution_count": 36,
   "metadata": {},
   "outputs": [
    {
     "name": "stdout",
     "output_type": "stream",
     "text": [
      "Loading batch number 0\n",
      "Loading batch number 1\n",
      "(50000, 769)\n",
      "(50000, 769)\n",
      "(50000, 2)\n",
      "CPU times: user 15.1 s, sys: 4.64 s, total: 19.8 s\n",
      "Wall time: 19.8 s\n"
     ]
    }
   ],
   "source": [
    "%%time\n",
    "#Get the data from the game files\n",
    "\n",
    "# gets training data, doesn't reorganize into lists of who won\n",
    "def getTrain(input_size, total, volume_size):\n",
    "    X1 = []\n",
    "    X2 = []\n",
    "    y = []\n",
    "\n",
    "    for i in range(total//volume_size):\n",
    "        print(\"Loading batch number \" + str(i))\n",
    "        f = open('pGames/volume' + str(i) + '.p', 'rb')\n",
    "        full_data = pickle.load(f,encoding='latin1')\n",
    "        curX = full_data['x']\n",
    "        curX = np.array(curX)\n",
    "        curL = full_data['x_labels']\n",
    "        curL = np.array(curL)\n",
    "        f.close()\n",
    "        \n",
    "#         y = np.concatenate([y,curL])\n",
    "#         print('num rows:',len(curL))\n",
    "        for j in range(volume_size):\n",
    "            X1.append(bitifyFEN(curX[j][0]))\n",
    "            X2.append(bitifyFEN(curX[j][1]))\n",
    "            y.append(curL[j])\n",
    "    \n",
    "    return np.array(X1), np.array(X2), np.array(y)\n",
    "\n",
    "# validation_test, validation_test_l = getTest(N_INPUT, 40, 44)\n",
    "# print(validation_test.shape)\n",
    "\n",
    "X1,X2,y = getTrain(N_INPUT, NUM_DATA, VOLUME_SIZE)\n",
    "\n",
    "for A in [X1,X2,y]:\n",
    "    print(A.shape)"
   ]
  },
  {
   "cell_type": "code",
   "execution_count": 37,
   "metadata": {},
   "outputs": [
    {
     "name": "stdout",
     "output_type": "stream",
     "text": [
      "(40000, 769)\n",
      "(40000, 769)\n",
      "(40000, 2)\n",
      "(10000, 769)\n",
      "(10000, 769)\n",
      "(10000, 2)\n"
     ]
    }
   ],
   "source": [
    "# split data into train and test\n",
    "\n",
    "    \n",
    "X1_train, X1_test, X2_train, X2_test, y_train, y_test = train_test_split(X1, X2, y, test_size=0.2, random_state=42)\n",
    "\n",
    "\n",
    "for A in [X1_train,X2_train,y_train]:\n",
    "    print(A.shape)\n",
    "for A in [X1_test,X2_test,y_test]:\n",
    "    print(A.shape)\n",
    "    \n",
    "\n",
    "# X_test, y_test = getTest(N_INPUT, 40, 41)\n",
    "# print(X_test.shape)"
   ]
  },
  {
   "cell_type": "code",
   "execution_count": null,
   "metadata": {},
   "outputs": [],
   "source": [
    "white_labels, black_labels = np.tile([1,0],(whiteWins.shape[0],1)), np.tile([0,1],(blackWins.shape[0],1))\n",
    "\n",
    "print(whiteWins.shape)\n",
    "print(white_labels.shape)\n",
    "# print(white_labels)\n",
    "# print(black_labels)\n",
    "\n",
    "X = np.concatenate((whiteWins, blackWins), axis=0)\n",
    "y = np.concatenate((white_labels, black_labels), axis=0)\n",
    "\n",
    "print(X.shape, y.shape)\n",
    "X_train, X_test, y_train, y_test = train_test_split(X, y, test_size=0.2, random_state=42)\n",
    "print(X_train.shape, X_test.shape)"
   ]
  },
  {
   "cell_type": "code",
   "execution_count": 4,
   "metadata": {},
   "outputs": [
    {
     "data": {
      "text/plain": [
       "307600224"
      ]
     },
     "execution_count": 4,
     "metadata": {},
     "output_type": "execute_result"
    }
   ],
   "source": [
    "from sys import getsizeof\n",
    "getsizeof(whiteWins) + getsizeof(blackWins)"
   ]
  },
  {
   "cell_type": "code",
   "execution_count": 54,
   "metadata": {},
   "outputs": [
    {
     "name": "stdout",
     "output_type": "stream",
     "text": [
      "CPU times: user 15.6 ms, sys: 0 ns, total: 15.6 ms\n",
      "Wall time: 23.8 ms\n"
     ]
    }
   ],
   "source": [
    "%%time\n",
    "\n",
    "# # get a batch of training data and labels\n",
    "# # 1: white wins, 0: black wins\n",
    "def getBatchMLP(start, size):\n",
    "    global whiteWins\n",
    "    global blackWins\n",
    "\n",
    "    x1R = []\n",
    "    x2R = []\n",
    "    lR = []\n",
    "    \n",
    "    for i in range(start,start+size):\n",
    "        if random.random() > 0.5:\n",
    "# \t\t\telem = [whiteWins[i], blackWins[i]]\n",
    "            b1,b2 = whiteWins[i], blackWins[i]\n",
    "            elem_l = [1,0]\n",
    "        else:\n",
    "# \t\t\telem = [blackWins[i], whiteWins[i]]\n",
    "            b1,b2 = blackWins[i],whiteWins[i]\n",
    "            elem_l = [0,1]\n",
    "        x1R.append(b1)\n",
    "        x2R.append(b2)\n",
    "        lR.append(elem_l)\n",
    "    return (x1R, x2R, lR)\n",
    "\n",
    "# batch; list of pairs of training examples (siamese)\n",
    "X1_train,X2_train,y_train = getBatchMLP(0, NUM_DATA)\n",
    "\n",
    "# this is necessary for training, and annoying\n",
    "X1_train = np.array(X1_train)\n",
    "X2_train = np.array(X2_train)\n",
    "y_train = np.array(y_train)\n"
   ]
  },
  {
   "cell_type": "code",
   "execution_count": 46,
   "metadata": {},
   "outputs": [
    {
     "name": "stdout",
     "output_type": "stream",
     "text": [
      "25000\n",
      "769\n"
     ]
    }
   ],
   "source": [
    "print(len(X1_train))\n",
    "print(len(X1_train[0]))"
   ]
  },
  {
   "cell_type": "code",
   "execution_count": 6,
   "metadata": {},
   "outputs": [],
   "source": [
    "# training procedure\n",
    "\n",
    "lr_schedule = tf.keras.optimizers.schedules.InverseTimeDecay(\n",
    "  0.001,\n",
    "  decay_steps=STEPS_PER_EPOCH*1000,\n",
    "  decay_rate=1,\n",
    "  staircase=False)\n",
    "\n",
    "def get_optimizer():\n",
    "  return tf.keras.optimizers.Adam(lr_schedule)\n",
    "\n",
    "# callbacks during training: performance, early stopping, tensorboard, model checkpoints\n",
    "def get_callbacks(name):\n",
    "    \n",
    "  return [\n",
    "    tfdocs.modeling.EpochDots(),\n",
    "    tf.keras.callbacks.EarlyStopping(monitor='val_binary_crossentropy', patience=2),\n",
    "    tf.keras.callbacks.TensorBoard(log_dir=logdir/name),\n",
    "    tf.keras.callbacks.ModelCheckpoint(filepath=checkpoint_path,\n",
    "                                                 save_weights_only=True,\n",
    "                                                 verbose=1)\n",
    "  ]\n",
    "\n",
    "def compile_and_fit(model, name, optimizer=None, max_epochs=100):\n",
    "  if optimizer is None:\n",
    "    optimizer = get_optimizer()\n",
    "  model.compile(optimizer=optimizer,\n",
    "                loss='binary_crossentropy',\n",
    "                metrics=['accuracy', 'binary_crossentropy'])\n",
    "\n",
    "  model.summary()\n",
    "\n",
    "  history = model.fit(\n",
    "    x=X_train,\n",
    "    y=y_train,\n",
    "    steps_per_epoch = STEPS_PER_EPOCH,\n",
    "    epochs=max_epochs,\n",
    "    validation_data=(X_test,y_test),\n",
    "    callbacks=get_callbacks(name),\n",
    "    verbose=2)\n",
    "  return history"
   ]
  },
  {
   "cell_type": "code",
   "execution_count": 7,
   "metadata": {},
   "outputs": [
    {
     "name": "stdout",
     "output_type": "stream",
     "text": [
      "Model: \"model\"\n",
      "__________________________________________________________________________________________________\n",
      "Layer (type)                    Output Shape         Param #     Connected to                     \n",
      "==================================================================================================\n",
      "board_1 (InputLayer)            [(None, 769)]        0                                            \n",
      "__________________________________________________________________________________________________\n",
      "board_2 (InputLayer)            [(None, 769)]        0                                            \n",
      "__________________________________________________________________________________________________\n",
      "sequential (Sequential)         (None, 100)          87100       board_1[0][0]                    \n",
      "                                                                 board_2[0][0]                    \n",
      "__________________________________________________________________________________________________\n",
      "concatenate (Concatenate)       (None, 200)          0           sequential[1][0]                 \n",
      "                                                                 sequential[2][0]                 \n",
      "__________________________________________________________________________________________________\n",
      "dense_2 (Dense)                 (None, 100)          20100       concatenate[0][0]                \n",
      "__________________________________________________________________________________________________\n",
      "dense_3 (Dense)                 (None, 2)            202         dense_2[0][0]                    \n",
      "==================================================================================================\n",
      "Total params: 107,402\n",
      "Trainable params: 107,402\n",
      "Non-trainable params: 0\n",
      "__________________________________________________________________________________________________\n"
     ]
    }
   ],
   "source": [
    "from tensorflow.keras import Input\n",
    "\n",
    "# model\n",
    "\n",
    "# single-board input model\n",
    "# model = tf.keras.models.Sequential([\n",
    "#     tf.keras.layers.Dense(100, activation='relu',input_shape=(N_INPUT,)),\n",
    "#     tf.keras.layers.Dense(100, activation='relu'),\n",
    "#     tf.keras.layers.Dense(100, activation='relu'),\n",
    "#     tf.keras.layers.Dense(2, activation='softmax')\n",
    "# ])\n",
    "\n",
    "def create_siamese_model(input_shape=N_INPUT):\n",
    "    \n",
    "    # Define the tensors for the two input boards\n",
    "    left_input = Input(input_shape,name='board_1')\n",
    "    right_input = Input(input_shape,name='board_2')\n",
    "\n",
    "    model = tf.keras.models.Sequential([\n",
    "        tf.keras.layers.Dense(100, activation='relu',input_shape=(input_shape,)),\n",
    "        tf.keras.layers.Dense(100, activation='relu'),\n",
    "#         tf.keras.layers.Dense(100, activation='relu'),\n",
    "    ])\n",
    "\n",
    "    # Generate the encodings (feature vectors) for the two inputs\n",
    "    encoded_l = model(left_input)\n",
    "    encoded_r = model(right_input)\n",
    "    \n",
    "    concat = tf.keras.layers.concatenate([encoded_l,encoded_r])\n",
    "    x = tf.keras.layers.Dense(100, activation='relu')(concat)\n",
    "    out = tf.keras.layers.Dense(2, activation='softmax')(x)\n",
    "    \n",
    "    # Connect the inputs with the outputs\n",
    "    net = tf.keras.Model(inputs=[left_input,right_input],outputs=out)\n",
    "    \n",
    "    # return the model\n",
    "    return net\n",
    "\n",
    "model = create_siamese_model()\n",
    "model.summary()"
   ]
  },
  {
   "cell_type": "code",
   "execution_count": 8,
   "metadata": {},
   "outputs": [
    {
     "name": "stdout",
     "output_type": "stream",
     "text": [
      "Train on 20000 samples\n",
      "Epoch 1/3\n",
      "20000/20000 [==============================] - 2s 93us/sample - loss: 0.5327 - accuracy: 0.7133\n",
      "Epoch 2/3\n",
      "20000/20000 [==============================] - 1s 68us/sample - loss: 0.3670 - accuracy: 0.8306\n",
      "Epoch 3/3\n",
      "20000/20000 [==============================] - 1s 68us/sample - loss: 0.2222 - accuracy: 0.9039\n",
      "5000/1 - 0s - loss: 0.6223 - accuracy: 0.8166\n"
     ]
    },
    {
     "data": {
      "text/plain": [
       "[0.43115329580307005, 0.8166]"
      ]
     },
     "execution_count": 8,
     "metadata": {},
     "output_type": "execute_result"
    }
   ],
   "source": [
    "model.compile(optimizer='adam',\n",
    "              loss='binary_crossentropy',\n",
    "              metrics=['accuracy'])\n",
    "\n",
    "model.fit([X1_train,X2_train], y_train, epochs=3)\n",
    "\n",
    "model.evaluate([X1_test, X2_test],  y_test, verbose=2)"
   ]
  },
  {
   "cell_type": "code",
   "execution_count": 38,
   "metadata": {},
   "outputs": [
    {
     "name": "stdout",
     "output_type": "stream",
     "text": [
      "Model: \"model\"\n",
      "__________________________________________________________________________________________________\n",
      "Layer (type)                    Output Shape         Param #     Connected to                     \n",
      "==================================================================================================\n",
      "board_1 (InputLayer)            [(None, 769)]        0                                            \n",
      "__________________________________________________________________________________________________\n",
      "board_2 (InputLayer)            [(None, 769)]        0                                            \n",
      "__________________________________________________________________________________________________\n",
      "sequential (Sequential)         (None, 100)          87100       board_1[0][0]                    \n",
      "                                                                 board_2[0][0]                    \n",
      "__________________________________________________________________________________________________\n",
      "concatenate (Concatenate)       (None, 200)          0           sequential[1][0]                 \n",
      "                                                                 sequential[2][0]                 \n",
      "__________________________________________________________________________________________________\n",
      "dense_2 (Dense)                 (None, 100)          20100       concatenate[0][0]                \n",
      "__________________________________________________________________________________________________\n",
      "dense_3 (Dense)                 (None, 2)            202         dense_2[0][0]                    \n",
      "==================================================================================================\n",
      "Total params: 107,402\n",
      "Trainable params: 107,402\n",
      "Non-trainable params: 0\n",
      "__________________________________________________________________________________________________\n",
      "Train on 40000 samples, validate on 10000 samples\n",
      "Epoch 1/100\n",
      "\n",
      "Epoch: 0, accuracy:0.8895,  binary_crossentropy:0.2619,  loss:0.2619,  val_accuracy:0.8907,  val_binary_crossentropy:0.2539,  val_loss:0.2539,  \n",
      ".\n",
      "Epoch 00001: saving model to training_1/cp.ckpt\n",
      "40000/40000 - 5s - loss: 0.2619 - accuracy: 0.8895 - binary_crossentropy: 0.2619 - val_loss: 0.2539 - val_accuracy: 0.8907 - val_binary_crossentropy: 0.2539\n",
      "Epoch 2/100\n",
      ".\n",
      "Epoch 00002: saving model to training_1/cp.ckpt\n",
      "40000/40000 - 5s - loss: 0.1541 - accuracy: 0.9356 - binary_crossentropy: 0.1541 - val_loss: 0.2829 - val_accuracy: 0.8863 - val_binary_crossentropy: 0.2829\n",
      "Epoch 3/100\n",
      ".\n",
      "Epoch 00003: saving model to training_1/cp.ckpt\n",
      "40000/40000 - 5s - loss: 0.1020 - accuracy: 0.9557 - binary_crossentropy: 0.1020 - val_loss: 0.3481 - val_accuracy: 0.8788 - val_binary_crossentropy: 0.3481\n"
     ]
    }
   ],
   "source": [
    "optimizer = get_optimizer()\n",
    "model.compile(optimizer=optimizer,\n",
    "            loss='binary_crossentropy',\n",
    "            metrics=['accuracy', 'binary_crossentropy'])\n",
    "\n",
    "model.summary()\n",
    "\n",
    "history = model.fit(\n",
    "    x=[X1_train,X2_train],\n",
    "    y=y_train,\n",
    "    steps_per_epoch = STEPS_PER_EPOCH,\n",
    "    epochs=100,\n",
    "    validation_data=([X1_test, X2_test],y_test),\n",
    "    callbacks=get_callbacks('Siamese'),\n",
    "    verbose=2)\n",
    "\n",
    "model.save(model_path + '/siamese_model.h5')"
   ]
  },
  {
   "cell_type": "code",
   "execution_count": 10,
   "metadata": {},
   "outputs": [],
   "source": []
  },
  {
   "cell_type": "code",
   "execution_count": 11,
   "metadata": {},
   "outputs": [
    {
     "name": "stdout",
     "output_type": "stream",
     "text": [
      "Model: \"sequential\"\n",
      "_________________________________________________________________\n",
      "Layer (type)                 Output Shape              Param #   \n",
      "=================================================================\n",
      "dense (Dense)                (None, 100)               77000     \n",
      "_________________________________________________________________\n",
      "dense_1 (Dense)              (None, 100)               10100     \n",
      "_________________________________________________________________\n",
      "dense_2 (Dense)              (None, 100)               10100     \n",
      "_________________________________________________________________\n",
      "dense_3 (Dense)              (None, 2)                 202       \n",
      "=================================================================\n",
      "Total params: 97,402\n",
      "Trainable params: 97,402\n",
      "Non-trainable params: 0\n",
      "_________________________________________________________________\n",
      "Train on 40000 samples, validate on 10000 samples\n",
      "Epoch 1/100\n",
      "\n",
      "Epoch: 0, accuracy:0.6589,  binary_crossentropy:0.5967,  loss:0.5967,  val_accuracy:0.6897,  val_binary_crossentropy:0.5626,  val_loss:0.5626,  \n",
      ".\n",
      "Epoch 00001: saving model to training_1/cp.ckpt\n",
      "40000/40000 - 3s - loss: 0.5967 - accuracy: 0.6589 - binary_crossentropy: 0.5967 - val_loss: 0.5626 - val_accuracy: 0.6897 - val_binary_crossentropy: 0.5626\n",
      "Epoch 2/100\n",
      ".\n",
      "Epoch 00002: saving model to training_1/cp.ckpt\n",
      "40000/40000 - 2s - loss: 0.4841 - accuracy: 0.7454 - binary_crossentropy: 0.4841 - val_loss: 0.5076 - val_accuracy: 0.7402 - val_binary_crossentropy: 0.5076\n",
      "Epoch 3/100\n",
      ".\n",
      "Epoch 00003: saving model to training_1/cp.ckpt\n",
      "40000/40000 - 2s - loss: 0.3619 - accuracy: 0.8164 - binary_crossentropy: 0.3619 - val_loss: 0.5186 - val_accuracy: 0.7476 - val_binary_crossentropy: 0.5186\n",
      "Epoch 4/100\n",
      ".\n",
      "Epoch 00004: saving model to training_1/cp.ckpt\n",
      "40000/40000 - 2s - loss: 0.2743 - accuracy: 0.8607 - binary_crossentropy: 0.2743 - val_loss: 0.5716 - val_accuracy: 0.7577 - val_binary_crossentropy: 0.5716\n",
      "Epoch 5/100\n",
      ".\n",
      "Epoch 00005: saving model to training_1/cp.ckpt\n",
      "40000/40000 - 2s - loss: 0.2254 - accuracy: 0.8845 - binary_crossentropy: 0.2254 - val_loss: 0.6211 - val_accuracy: 0.7646 - val_binary_crossentropy: 0.6211\n",
      "Epoch 6/100\n",
      ".\n",
      "Epoch 00006: saving model to training_1/cp.ckpt\n",
      "40000/40000 - 2s - loss: 0.1970 - accuracy: 0.8980 - binary_crossentropy: 0.1970 - val_loss: 0.7100 - val_accuracy: 0.7608 - val_binary_crossentropy: 0.7100\n",
      "Epoch 7/100\n",
      ".\n",
      "Epoch 00007: saving model to training_1/cp.ckpt\n",
      "40000/40000 - 2s - loss: 0.1779 - accuracy: 0.9064 - binary_crossentropy: 0.1779 - val_loss: 0.7499 - val_accuracy: 0.7666 - val_binary_crossentropy: 0.7499\n",
      "CPU times: user 28.9 s, sys: 13.4 s, total: 42.3 s\n",
      "Wall time: 15.2 s\n"
     ]
    }
   ],
   "source": [
    "%%time\n",
    "size_histories = {}\n",
    "\n",
    "size_histories['Small'] = compile_and_fit(model, 'sizes/Small')"
   ]
  },
  {
   "cell_type": "code",
   "execution_count": 12,
   "metadata": {},
   "outputs": [
    {
     "ename": "ValueError",
     "evalue": "x and y must have same first dimension, but have shapes (7,) and (81,)",
     "output_type": "error",
     "traceback": [
      "\u001b[0;31m---------------------------------------------------------------------------\u001b[0m",
      "\u001b[0;31mValueError\u001b[0m                                Traceback (most recent call last)",
      "\u001b[0;32m<ipython-input-12-14481aa2b264>\u001b[0m in \u001b[0;36m<module>\u001b[0;34m\u001b[0m\n\u001b[1;32m      1\u001b[0m \u001b[0mplotter\u001b[0m \u001b[0;34m=\u001b[0m \u001b[0mtfdocs\u001b[0m\u001b[0;34m.\u001b[0m\u001b[0mplots\u001b[0m\u001b[0;34m.\u001b[0m\u001b[0mHistoryPlotter\u001b[0m\u001b[0;34m(\u001b[0m\u001b[0mmetric\u001b[0m \u001b[0;34m=\u001b[0m \u001b[0;34m'binary_crossentropy'\u001b[0m\u001b[0;34m,\u001b[0m \u001b[0msmoothing_std\u001b[0m\u001b[0;34m=\u001b[0m\u001b[0;36m10\u001b[0m\u001b[0;34m)\u001b[0m\u001b[0;34m\u001b[0m\u001b[0;34m\u001b[0m\u001b[0m\n\u001b[0;32m----> 2\u001b[0;31m \u001b[0mplotter\u001b[0m\u001b[0;34m.\u001b[0m\u001b[0mplot\u001b[0m\u001b[0;34m(\u001b[0m\u001b[0msize_histories\u001b[0m\u001b[0;34m)\u001b[0m\u001b[0;34m\u001b[0m\u001b[0;34m\u001b[0m\u001b[0m\n\u001b[0m\u001b[1;32m      3\u001b[0m \u001b[0;31m# plt.ylim([0.5, 0.7])\u001b[0m\u001b[0;34m\u001b[0m\u001b[0;34m\u001b[0m\u001b[0;34m\u001b[0m\u001b[0m\n",
      "\u001b[0;32m~/miniconda3/envs/ml/lib/python3.6/site-packages/tensorflow_docs/plots/__init__.py\u001b[0m in \u001b[0;36mplot\u001b[0;34m(self, histories, metric, smoothing_std)\u001b[0m\n\u001b[1;32m     96\u001b[0m           \u001b[0mtrain_value\u001b[0m\u001b[0;34m,\u001b[0m\u001b[0;34m\u001b[0m\u001b[0;34m\u001b[0m\u001b[0m\n\u001b[1;32m     97\u001b[0m           \u001b[0mcolor\u001b[0m\u001b[0;34m=\u001b[0m\u001b[0mcolor\u001b[0m\u001b[0;34m,\u001b[0m\u001b[0;34m\u001b[0m\u001b[0;34m\u001b[0m\u001b[0m\n\u001b[0;32m---> 98\u001b[0;31m           label=name.title() + ' Train')\n\u001b[0m\u001b[1;32m     99\u001b[0m       plt.plot(\n\u001b[1;32m    100\u001b[0m           \u001b[0mhistory\u001b[0m\u001b[0;34m.\u001b[0m\u001b[0mepoch\u001b[0m\u001b[0;34m,\u001b[0m\u001b[0;34m\u001b[0m\u001b[0;34m\u001b[0m\u001b[0m\n",
      "\u001b[0;32m~/miniconda3/envs/ml/lib/python3.6/site-packages/matplotlib/pyplot.py\u001b[0m in \u001b[0;36mplot\u001b[0;34m(scalex, scaley, data, *args, **kwargs)\u001b[0m\n\u001b[1;32m   2787\u001b[0m     return gca().plot(\n\u001b[1;32m   2788\u001b[0m         *args, scalex=scalex, scaley=scaley, **({\"data\": data} if data\n\u001b[0;32m-> 2789\u001b[0;31m         is not None else {}), **kwargs)\n\u001b[0m\u001b[1;32m   2790\u001b[0m \u001b[0;34m\u001b[0m\u001b[0m\n\u001b[1;32m   2791\u001b[0m \u001b[0;34m\u001b[0m\u001b[0m\n",
      "\u001b[0;32m~/miniconda3/envs/ml/lib/python3.6/site-packages/matplotlib/axes/_axes.py\u001b[0m in \u001b[0;36mplot\u001b[0;34m(self, scalex, scaley, data, *args, **kwargs)\u001b[0m\n\u001b[1;32m   1663\u001b[0m         \"\"\"\n\u001b[1;32m   1664\u001b[0m         \u001b[0mkwargs\u001b[0m \u001b[0;34m=\u001b[0m \u001b[0mcbook\u001b[0m\u001b[0;34m.\u001b[0m\u001b[0mnormalize_kwargs\u001b[0m\u001b[0;34m(\u001b[0m\u001b[0mkwargs\u001b[0m\u001b[0;34m,\u001b[0m \u001b[0mmlines\u001b[0m\u001b[0;34m.\u001b[0m\u001b[0mLine2D\u001b[0m\u001b[0;34m.\u001b[0m\u001b[0m_alias_map\u001b[0m\u001b[0;34m)\u001b[0m\u001b[0;34m\u001b[0m\u001b[0;34m\u001b[0m\u001b[0m\n\u001b[0;32m-> 1665\u001b[0;31m         \u001b[0mlines\u001b[0m \u001b[0;34m=\u001b[0m \u001b[0;34m[\u001b[0m\u001b[0;34m*\u001b[0m\u001b[0mself\u001b[0m\u001b[0;34m.\u001b[0m\u001b[0m_get_lines\u001b[0m\u001b[0;34m(\u001b[0m\u001b[0;34m*\u001b[0m\u001b[0margs\u001b[0m\u001b[0;34m,\u001b[0m \u001b[0mdata\u001b[0m\u001b[0;34m=\u001b[0m\u001b[0mdata\u001b[0m\u001b[0;34m,\u001b[0m \u001b[0;34m**\u001b[0m\u001b[0mkwargs\u001b[0m\u001b[0;34m)\u001b[0m\u001b[0;34m]\u001b[0m\u001b[0;34m\u001b[0m\u001b[0;34m\u001b[0m\u001b[0m\n\u001b[0m\u001b[1;32m   1666\u001b[0m         \u001b[0;32mfor\u001b[0m \u001b[0mline\u001b[0m \u001b[0;32min\u001b[0m \u001b[0mlines\u001b[0m\u001b[0;34m:\u001b[0m\u001b[0;34m\u001b[0m\u001b[0;34m\u001b[0m\u001b[0m\n\u001b[1;32m   1667\u001b[0m             \u001b[0mself\u001b[0m\u001b[0;34m.\u001b[0m\u001b[0madd_line\u001b[0m\u001b[0;34m(\u001b[0m\u001b[0mline\u001b[0m\u001b[0;34m)\u001b[0m\u001b[0;34m\u001b[0m\u001b[0;34m\u001b[0m\u001b[0m\n",
      "\u001b[0;32m~/miniconda3/envs/ml/lib/python3.6/site-packages/matplotlib/axes/_base.py\u001b[0m in \u001b[0;36m__call__\u001b[0;34m(self, *args, **kwargs)\u001b[0m\n\u001b[1;32m    223\u001b[0m                 \u001b[0mthis\u001b[0m \u001b[0;34m+=\u001b[0m \u001b[0margs\u001b[0m\u001b[0;34m[\u001b[0m\u001b[0;36m0\u001b[0m\u001b[0;34m]\u001b[0m\u001b[0;34m,\u001b[0m\u001b[0;34m\u001b[0m\u001b[0;34m\u001b[0m\u001b[0m\n\u001b[1;32m    224\u001b[0m                 \u001b[0margs\u001b[0m \u001b[0;34m=\u001b[0m \u001b[0margs\u001b[0m\u001b[0;34m[\u001b[0m\u001b[0;36m1\u001b[0m\u001b[0;34m:\u001b[0m\u001b[0;34m]\u001b[0m\u001b[0;34m\u001b[0m\u001b[0;34m\u001b[0m\u001b[0m\n\u001b[0;32m--> 225\u001b[0;31m             \u001b[0;32myield\u001b[0m \u001b[0;32mfrom\u001b[0m \u001b[0mself\u001b[0m\u001b[0;34m.\u001b[0m\u001b[0m_plot_args\u001b[0m\u001b[0;34m(\u001b[0m\u001b[0mthis\u001b[0m\u001b[0;34m,\u001b[0m \u001b[0mkwargs\u001b[0m\u001b[0;34m)\u001b[0m\u001b[0;34m\u001b[0m\u001b[0;34m\u001b[0m\u001b[0m\n\u001b[0m\u001b[1;32m    226\u001b[0m \u001b[0;34m\u001b[0m\u001b[0m\n\u001b[1;32m    227\u001b[0m     \u001b[0;32mdef\u001b[0m \u001b[0mget_next_color\u001b[0m\u001b[0;34m(\u001b[0m\u001b[0mself\u001b[0m\u001b[0;34m)\u001b[0m\u001b[0;34m:\u001b[0m\u001b[0;34m\u001b[0m\u001b[0;34m\u001b[0m\u001b[0m\n",
      "\u001b[0;32m~/miniconda3/envs/ml/lib/python3.6/site-packages/matplotlib/axes/_base.py\u001b[0m in \u001b[0;36m_plot_args\u001b[0;34m(self, tup, kwargs)\u001b[0m\n\u001b[1;32m    389\u001b[0m             \u001b[0mx\u001b[0m\u001b[0;34m,\u001b[0m \u001b[0my\u001b[0m \u001b[0;34m=\u001b[0m \u001b[0mindex_of\u001b[0m\u001b[0;34m(\u001b[0m\u001b[0mtup\u001b[0m\u001b[0;34m[\u001b[0m\u001b[0;34m-\u001b[0m\u001b[0;36m1\u001b[0m\u001b[0;34m]\u001b[0m\u001b[0;34m)\u001b[0m\u001b[0;34m\u001b[0m\u001b[0;34m\u001b[0m\u001b[0m\n\u001b[1;32m    390\u001b[0m \u001b[0;34m\u001b[0m\u001b[0m\n\u001b[0;32m--> 391\u001b[0;31m         \u001b[0mx\u001b[0m\u001b[0;34m,\u001b[0m \u001b[0my\u001b[0m \u001b[0;34m=\u001b[0m \u001b[0mself\u001b[0m\u001b[0;34m.\u001b[0m\u001b[0m_xy_from_xy\u001b[0m\u001b[0;34m(\u001b[0m\u001b[0mx\u001b[0m\u001b[0;34m,\u001b[0m \u001b[0my\u001b[0m\u001b[0;34m)\u001b[0m\u001b[0;34m\u001b[0m\u001b[0;34m\u001b[0m\u001b[0m\n\u001b[0m\u001b[1;32m    392\u001b[0m \u001b[0;34m\u001b[0m\u001b[0m\n\u001b[1;32m    393\u001b[0m         \u001b[0;32mif\u001b[0m \u001b[0mself\u001b[0m\u001b[0;34m.\u001b[0m\u001b[0mcommand\u001b[0m \u001b[0;34m==\u001b[0m \u001b[0;34m'plot'\u001b[0m\u001b[0;34m:\u001b[0m\u001b[0;34m\u001b[0m\u001b[0;34m\u001b[0m\u001b[0m\n",
      "\u001b[0;32m~/miniconda3/envs/ml/lib/python3.6/site-packages/matplotlib/axes/_base.py\u001b[0m in \u001b[0;36m_xy_from_xy\u001b[0;34m(self, x, y)\u001b[0m\n\u001b[1;32m    268\u001b[0m         \u001b[0;32mif\u001b[0m \u001b[0mx\u001b[0m\u001b[0;34m.\u001b[0m\u001b[0mshape\u001b[0m\u001b[0;34m[\u001b[0m\u001b[0;36m0\u001b[0m\u001b[0;34m]\u001b[0m \u001b[0;34m!=\u001b[0m \u001b[0my\u001b[0m\u001b[0;34m.\u001b[0m\u001b[0mshape\u001b[0m\u001b[0;34m[\u001b[0m\u001b[0;36m0\u001b[0m\u001b[0;34m]\u001b[0m\u001b[0;34m:\u001b[0m\u001b[0;34m\u001b[0m\u001b[0;34m\u001b[0m\u001b[0m\n\u001b[1;32m    269\u001b[0m             raise ValueError(\"x and y must have same first dimension, but \"\n\u001b[0;32m--> 270\u001b[0;31m                              \"have shapes {} and {}\".format(x.shape, y.shape))\n\u001b[0m\u001b[1;32m    271\u001b[0m         \u001b[0;32mif\u001b[0m \u001b[0mx\u001b[0m\u001b[0;34m.\u001b[0m\u001b[0mndim\u001b[0m \u001b[0;34m>\u001b[0m \u001b[0;36m2\u001b[0m \u001b[0;32mor\u001b[0m \u001b[0my\u001b[0m\u001b[0;34m.\u001b[0m\u001b[0mndim\u001b[0m \u001b[0;34m>\u001b[0m \u001b[0;36m2\u001b[0m\u001b[0;34m:\u001b[0m\u001b[0;34m\u001b[0m\u001b[0;34m\u001b[0m\u001b[0m\n\u001b[1;32m    272\u001b[0m             raise ValueError(\"x and y can be no greater than 2-D, but have \"\n",
      "\u001b[0;31mValueError\u001b[0m: x and y must have same first dimension, but have shapes (7,) and (81,)"
     ]
    },
    {
     "data": {
      "image/png": "[encoded data removed]",
      "text/plain": [
       "<Figure size 432x288 with 1 Axes>"
      ]
     },
     "metadata": {
      "needs_background": "light"
     },
     "output_type": "display_data"
    }
   ],
   "source": [
    "# error - x and y dimensions don't match, but why are y dimensions 81?\n",
    "\n",
    "plotter = tfdocs.plots.HistoryPlotter(metric = 'binary_crossentropy', smoothing_std=10)\n",
    "plotter.plot(size_histories)\n",
    "# plt.ylim([0.5, 0.7])"
   ]
  },
  {
   "cell_type": "code",
   "execution_count": 13,
   "metadata": {},
   "outputs": [
    {
     "name": "stdout",
     "output_type": "stream",
     "text": [
      "[0, 1, 2, 3, 4, 5, 6]\n",
      "[0.5966709, 0.48407447, 0.36187086, 0.27428532, 0.22544669, 0.19698228, 0.17791541]\n",
      "Small <tensorflow.python.keras.callbacks.History object at 0x7f71341b3438>\n"
     ]
    },
    {
     "data": {
      "image/png": "[encoded data removed]",
      "text/plain": [
       "<Figure size 432x288 with 1 Axes>"
      ]
     },
     "metadata": {
      "needs_background": "light"
     },
     "output_type": "display_data"
    }
   ],
   "source": [
    "metric = 'binary_crossentropy'\n",
    "for name, history in size_histories.items():\n",
    "    print(history.epoch)\n",
    "    print(history.history[metric])\n",
    "\n",
    "    print(name,history)\n",
    "    \n",
    "    plt.plot(history.epoch,history.history[metric])\n",
    "    plt.plot(history.epoch,history.history['val_' + metric])\n",
    "    "
   ]
  },
  {
   "cell_type": "code",
   "execution_count": 10,
   "metadata": {},
   "outputs": [
    {
     "data": {
      "text/html": [
       "\n",
       "      <iframe id=\"tensorboard-frame-cf20ce7a15a5e06b\" width=\"100%\" height=\"800\" frameborder=\"0\">\n",
       "      </iframe>\n",
       "      <script>\n",
       "        (function() {\n",
       "          const frame = document.getElementById(\"tensorboard-frame-cf20ce7a15a5e06b\");\n",
       "          const url = new URL(\"/\", window.location);\n",
       "          url.port = 6006;\n",
       "          frame.src = url;\n",
       "        })();\n",
       "      </script>\n",
       "  "
      ],
      "text/plain": [
       "<IPython.core.display.HTML object>"
      ]
     },
     "metadata": {},
     "output_type": "display_data"
    }
   ],
   "source": [
    "%load_ext tensorboard\n",
    "# %tensorboard --logdir {logdir}/sizes\n",
    "%tensorboard --logdir {logdir}"
   ]
  },
  {
   "cell_type": "code",
   "execution_count": null,
   "metadata": {},
   "outputs": [],
   "source": []
  },
  {
   "cell_type": "code",
   "execution_count": 39,
   "metadata": {},
   "outputs": [],
   "source": [
    "# class for inference given a FEN string - parse to bitboard, load model, inference \n",
    "import chess\n",
    "# import tfdeploy as td\n",
    "import itertools\n",
    "import copy\n",
    "from util import *\n",
    "\n",
    "\n",
    "model = tf.keras.models.load_model(model_path + '/siamese_model.h5')\n",
    "\n",
    "\n",
    "def netPredict(first, second):\n",
    "#     global model\n",
    "#     global x\n",
    "#     global y\n",
    "\n",
    "    x_1 = bitifyFEN(beautifyFEN(first.fen()))\n",
    "    x_2 = bitifyFEN(beautifyFEN(second.fen()))\n",
    "    toEval = [[x_1], [x_2]]\n",
    "#     result = y.eval({x: toEval})\n",
    "    result = model.predict(toEval)\n",
    "\n",
    "    if result[0][0] > result [0][1]:\n",
    "        return (first, second)\n",
    "    else:\n",
    "        return (second, first)\n"
   ]
  },
  {
   "cell_type": "code",
   "execution_count": 41,
   "metadata": {},
   "outputs": [
    {
     "name": "stdout",
     "output_type": "stream",
     "text": [
      "[[0.6268489  0.37315112]]\n",
      "[[0.72068757 0.27931246]]\n",
      "[[0.6357499  0.36425006]]\n",
      "CPU times: user 78.1 ms, sys: 0 ns, total: 78.1 ms\n",
      "Wall time: 86.7 ms\n"
     ]
    }
   ],
   "source": [
    "%%time\n",
    "\n",
    "# FEN: start from rank 8, move down. black pieces are lowercase\n",
    "fen_1 = 'rnbqkbnr/pppppppp/8/8/4P3/8/PPPP1PPP/RNBQKBNR w KQkq e3 0 1' # starting\n",
    "fen_2 = 'rnb1kbnr/pppppppp/8/8/4P3/8/PPPP1PPP/RNBQKBNR w KQkq e3 0 1' # black down queen\n",
    "fen_3 = 'rnbqkbnr/pppppppp/8/8/4P3/8/PPPP1PPP/RNB1KBNR w KQkq e3 0 1' # white down queen\n",
    "fen_4 = 'rnb1kbnr/pppppppp/8/8/4P3/8/PPPP1PPP/RNB1KBNR w KQkq e3 0 1' # both down queen\n",
    "\n",
    "x_1 = np.array(bitifyFEN(beautifyFEN(fen_1))).reshape(1,-1)\n",
    "x_2 = np.array(bitifyFEN(beautifyFEN(fen_2))).reshape(1,-1)\n",
    "x_3 = np.array(bitifyFEN(beautifyFEN(fen_3))).reshape(1,-1)\n",
    "x_4 = np.array(bitifyFEN(beautifyFEN(fen_4))).reshape(1,-1)\n",
    "\n",
    "print(model.predict([x_1,x_2]))\n",
    "print(model.predict([x_1,x_3]))\n",
    "print(model.predict([x_1,x_4]))"
   ]
  },
  {
   "cell_type": "code",
   "execution_count": null,
   "metadata": {},
   "outputs": [],
   "source": []
  }
 ],
 "metadata": {
  "kernelspec": {
   "display_name": "Python [conda env:ml]",
   "language": "python",
   "name": "conda-env-ml-py"
  },
  "language_info": {
   "codemirror_mode": {
    "name": "ipython",
    "version": 3
   },
   "file_extension": ".py",
   "mimetype": "text/x-python",
   "name": "python",
   "nbconvert_exporter": "python",
   "pygments_lexer": "ipython3",
   "version": "3.6.10"
  }
 },
 "nbformat": 4,
 "nbformat_minor": 2
}
